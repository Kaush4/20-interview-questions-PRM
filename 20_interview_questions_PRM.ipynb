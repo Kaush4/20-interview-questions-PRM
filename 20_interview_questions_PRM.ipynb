{
  "nbformat": 4,
  "nbformat_minor": 0,
  "metadata": {
    "colab": {
      "provenance": []
    },
    "kernelspec": {
      "name": "python3",
      "display_name": "Python 3"
    },
    "language_info": {
      "name": "python"
    }
  },
  "cells": [
    {
      "cell_type": "code",
      "execution_count": null,
      "metadata": {
        "id": "isfX7zw4P7G-"
      },
      "outputs": [],
      "source": [
        "# Data Types:\n",
        "\n",
        "# 1. What are the primitive data types in Python?\n",
        "# Answer: The primitive data types in Python are integer, float, boolean, and string.\n",
        "# 2. How do you convert a string to an integer in Python?\n",
        "# Answer: To convert a string to an integer in Python, you can use the int() function. For example, int(\"42\") will return the integer value 42.\n",
        "# 3. What is the difference between a list and a tuple in Python?\n",
        "# Answer: A list is a mutable data type in Python, which means you can change its elements after \n",
        "# it has been created. On the other hand, a tuple is an immutable data type, which means you cannot change its elements after it has been created.\n",
        "# 4. What is a dictionary in Python?\n",
        "# Answer: A dictionary is a data type in Python that stores a collection of key-value pairs.\n",
        "# Each key is associated with a value, and you can use the key to access the value.\n",
        "# 5. How do you create a set in Python?\n",
        "# Answer: To create a set in Python, you can use curly braces {} or the set() function.\n",
        "# For example, {1, 2, 3} or set([1, 2, 3]) will create a set containing the elements 1, 2, and 3."
      ]
    },
    {
      "cell_type": "code",
      "source": [
        "# Operators:\n",
        "# 6. What is the difference between == and is in Python?\n",
        "# Answer: The == operator checks if the values of two objects are equal, \n",
        "# whereas the is operator checks if the two objects are the same object in memory.\n",
        "# 7. What is the modulus operator in Python?\n",
        "# Answer: The modulus operator in Python is the % symbol. It returns the remainder of the division operation.\n",
        "# 8. What is the difference between and and & operators in Python?\n",
        "# Answer: The and operator in Python performs a logical AND operation on two Boolean values.\n",
        "# The & operator performs a bitwise AND operation on two integers.\n",
        "# 9. How do you concatenate two lists in Python?\n",
        "# Answer: To concatenate two lists in Python, you can use the + operator or the extend() method.\n",
        "# For example, [1, 2, 3] + [4, 5, 6] will return [1, 2, 3, 4, 5, 6], and myList.extend([4, 5, 6]) will modify myList to contain [1, 2, 3, 4, 5, 6].\n",
        "# 10. How do you check if an item is in a list in Python?\n",
        "# Answer: To check if an item is in a list in Python, you can use the in keyword. For example,\n",
        "# if 3 in myList: will return True if the list myList contains the value 3."
      ],
      "metadata": {
        "id": "JLrBB9RQP89y"
      },
      "execution_count": null,
      "outputs": []
    },
    {
      "cell_type": "code",
      "source": [
        "# Conditional Statements:\n",
        "# 11. What is an if statement in Python?\n",
        "# Answer: An if statement in Python is a conditional statement that executes a block of code if a certain condition is true.\n",
        "# 12. How do you use if-else statements in Python?\n",
        "# Answer: You can use an if-else statement in Python to execute one block of code\n",
        "# if a certain condition is true, and a different block of code if the condition is false.\n",
        "# 13. What is a nested if statement in Python?\n",
        "# Answer: A nested if statement in Python is an if statement that is contained inside another if statement. It allows for more complex branching logic.\n",
        "# 14. What is the difference between if and elif statements in Python?\n",
        "# Answer: The if statement in Python checks a single condition, whereas the elif statement allows you to check multiple conditions in a sequence.\n",
        "# 15. How do you use the ternary operator in Python?\n",
        "# Answer: The ternary operator"
      ],
      "metadata": {
        "id": "BXCIirNsP8_y"
      },
      "execution_count": null,
      "outputs": []
    },
    {
      "cell_type": "code",
      "source": [
        "# Looping Statements:\n",
        "# 16. What is a for loop in Python?\n",
        "# Answer: A for loop in Python is a loop that iterates over a sequence of values, such as a list or a string.\n",
        "# It allows you to perform a set of operations on each element of the sequence.\n",
        "# 17. How do you use a while loop in Python?\n",
        "# Answer: A while loop in Python is a loop that continues to execute as long as a certain condition is true.\n",
        "# You can specify the condition using a Boolean expression, and the loop will continue to execute until the condition is false.\n",
        "# 18. What is the difference between a break and a continue statement in Python?\n",
        "# Answer: A break statement in Python is used to exit a loop immediately, regardless of whether the loop has finished executing.\n",
        "# A continue statement, on the other hand, is used to skip over the current iteration of the loop and move on to the next iteration.\n",
        "# 19. How do you iterate over a dictionary in Python?\n",
        "# Answer: You can iterate over a dictionary in Python using a for loop. By default, the loop will iterate over the keys of the dictionary,\n",
        "# but you can also iterate over the values or the key-value pairs using the values() or items() methods, respectively.\n",
        "# 20. How do you use the range() function in Python?\n",
        "# Answer: The range() function in Python generates a sequence of numbers,\n",
        "# starting from zero by default and incrementing by one, up to a specified end value.\n",
        "# You can also specify a start value and a step value if you want to customize the sequence.\n",
        "# The range() function is often used in for loops to control the number of iterations.\n",
        "# For example, for i in range(5) will iterate over the values 0, 1, 2, 3, and 4."
      ],
      "metadata": {
        "id": "xDT-vzbkQNk1"
      },
      "execution_count": null,
      "outputs": []
    },
    {
      "cell_type": "code",
      "source": [
        "# Functions:\n",
        "# 21. What is a function in Python?\n",
        "# Answer: In Python, a function is a block of code that performs a specific task.\n",
        "# Functions allow you to organize your code into reusable units, making it easier to read, debug, and maintain.\n",
        "# 22. How do you define a function in Python?\n",
        "# Answer: You can define a function in Python using the def keyword, followed by the name of the function, any parameters that it accepts, and a colon.\n",
        "# The code that makes up the function should be indented to indicate that it is part of the function. For example:\n",
        "# def add_numbers(x, y):\n",
        "#     return x + y\n",
        "\n",
        "# 23. What is the difference between arguments and parameters in Python?\n",
        "# Answer: In Python, parameters are the variables that are listed in a function definition,\n",
        "# while arguments are the values that are passed to the function when it is called.\n",
        "# Parameters define the inputs that a function expects, while arguments are the actual values that are provided as inputs.\n",
        "# 24. How do you return a value from a function in Python?\n",
        "# Answer: You can return a value from a function in Python using the return statement.\n",
        "# The return statement should be followed by the value that you want to return. For example:\n",
        "# def add_numbers(x, y):\n",
        "#     return x + y\n",
        "\n",
        "# result = add_numbers(5, 7)\n",
        "# print(result) # Output: 12\n",
        "\n",
        "# 25. What is recursion in Python?\n",
        "# Answer: Recursion in Python is a technique that involves a function calling itself.\n",
        "# In other words, a function can call itself and repeat its behavior until a certain condition is met.\n",
        "# Recursion is often used to solve problems that can be broken down into smaller subproblems,\n",
        "# such as searching a tree data structure or performing a factorial calculation.\n"
      ],
      "metadata": {
        "id": "A3ZgzxcKQNog"
      },
      "execution_count": null,
      "outputs": []
    },
    {
      "cell_type": "code",
      "source": [],
      "metadata": {
        "id": "HL2tqkHXP9Qo"
      },
      "execution_count": null,
      "outputs": []
    }
  ]
}